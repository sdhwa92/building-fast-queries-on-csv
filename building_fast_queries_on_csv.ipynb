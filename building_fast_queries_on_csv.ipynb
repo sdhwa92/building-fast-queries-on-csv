{
 "cells": [
  {
   "cell_type": "markdown",
   "metadata": {},
   "source": [
    "# Building Fast Queries on a CSV\n",
    "\n",
    "In this mini project, we will imagine that we own an online laptop store and want to build a way to answer a few different business questions about our inventory.\n",
    "\n",
    "We will use the laptops.csv file as our inventory. We uses the CSV file from the [Laptop Prices dataset on Kaggle](https://www.kaggle.com/ionaskel/laptop-prices). We changed the IDs and made the prices integers. \n",
    "\n",
    "Here is a brief description of the rows:\n",
    "- ID: A unique identifier for the laptop.\n",
    "- Company: The name of the company that produces the laptop.\n",
    "- Product: The name of the laptop.\n",
    "- TypeName: The type of laptop.\n",
    "- Inches: The size of the screen in inches.\n",
    "- ScreenResolution: The resolution of the screen.\n",
    "- CPU: The laptop CPU.\n",
    "- RAM: The amount of RAM in the laptop.\n",
    "- Memory: The size of the hard drive.\n",
    "- GPU: The graphics card name.\n",
    "- OpSys: The name of the operating system.\n",
    "- Weight: The laptop weight.\n",
    "- Price: The price of the laptop.\n",
    "\n",
    "The goal of this project is to create a class that represents our inventory. The methods in that class will implement the queries that we want to answer about our inventory. We will also preprocess that data to make those queries run faster.\n"
   ]
  },
  {
   "cell_type": "markdown",
   "metadata": {},
   "source": [
    "Let's have a look the headers and first couple of rows of data."
   ]
  },
  {
   "cell_type": "code",
   "execution_count": 3,
   "metadata": {},
   "outputs": [
    {
     "name": "stdout",
     "output_type": "stream",
     "text": [
      "['Id', 'Company', 'Product', 'TypeName', 'Inches', 'ScreenResolution', 'Cpu', 'Ram', 'Memory', 'Gpu', 'OpSys', 'Weight', 'Price']\n",
      "[['6571244', 'Apple', 'MacBook Pro', 'Ultrabook', '13.3', 'IPS Panel Retina Display 2560x1600', 'Intel Core i5 2.3GHz', '8GB', '128GB SSD', 'Intel Iris Plus Graphics 640', 'macOS', '1.37kg', '1339'], ['7287764', 'Apple', 'Macbook Air', 'Ultrabook', '13.3', '1440x900', 'Intel Core i5 1.8GHz', '8GB', '128GB Flash Storage', 'Intel HD Graphics 6000', 'macOS', '1.34kg', '898'], ['3362737', 'HP', '250 G6', 'Notebook', '15.6', 'Full HD 1920x1080', 'Intel Core i5 7200U 2.5GHz', '8GB', '256GB SSD', 'Intel HD Graphics 620', 'No OS', '1.86kg', '575'], ['9722156', 'Apple', 'MacBook Pro', 'Ultrabook', '15.4', 'IPS Panel Retina Display 2880x1800', 'Intel Core i7 2.7GHz', '16GB', '512GB SSD', 'AMD Radeon Pro 455', 'macOS', '1.83kg', '2537'], ['8550527', 'Apple', 'MacBook Pro', 'Ultrabook', '13.3', 'IPS Panel Retina Display 2560x1600', 'Intel Core i5 3.1GHz', '8GB', '256GB SSD', 'Intel Iris Plus Graphics 650', 'macOS', '1.37kg', '1803'], ['8529462', 'Acer', 'Aspire 3', 'Notebook', '15.6', '1366x768', 'AMD A9-Series 9420 3GHz', '4GB', '500GB HDD', 'AMD Radeon R5', 'Windows 10', '2.1kg', '400']]\n"
     ]
    }
   ],
   "source": [
    "import csv\n",
    "with open('laptops.csv', encoding='UTF-8') as file:\n",
    "    read_file = list(csv.reader(file))\n",
    "    header = read_file[0]\n",
    "    rows = read_file[1:]\n",
    "    print(header)\n",
    "    print(rows[:6])"
   ]
  },
  {
   "cell_type": "markdown",
   "metadata": {},
   "source": [
    "Hear are some queries that we will want to answer:\n",
    "- Given a laptop id, find the corresponding data\n",
    "- Given an amount of money, find whether there are two laptops whose total price is that given amount.\n",
    "- Identify all laptops whose price falls within a given budget.\n",
    "\n",
    "To start, let's create a class with constructor takes the name of the CSV file as argument and then read the rows contained it."
   ]
  },
  {
   "cell_type": "code",
   "execution_count": 4,
   "metadata": {},
   "outputs": [],
   "source": [
    "class Inventory():\n",
    "    def __init__(self, csv_filename):\n",
    "        with open(csv_filename, encoding='utf-8') as file:\n",
    "            data = list(csv.reader(file))\n",
    "            self.header = data[0]\n",
    "            self.rows = data[1:]\n",
    "            for row in self.rows:\n",
    "                row_len = len(row)\n",
    "                row[row_len - 1] = int(row[row_len - 1])"
   ]
  },
  {
   "cell_type": "markdown",
   "metadata": {},
   "source": [
    "Test our class by creating an instance of `Inventory` using `laptops.csv` as argument."
   ]
  },
  {
   "cell_type": "code",
   "execution_count": 5,
   "metadata": {},
   "outputs": [
    {
     "name": "stdout",
     "output_type": "stream",
     "text": [
      "['Id', 'Company', 'Product', 'TypeName', 'Inches', 'ScreenResolution', 'Cpu', 'Ram', 'Memory', 'Gpu', 'OpSys', 'Weight', 'Price']\n",
      "1303\n"
     ]
    }
   ],
   "source": [
    "inventory = Inventory('laptops.csv')\n",
    "print(inventory.header)\n",
    "print(len(inventory.rows))"
   ]
  },
  {
   "cell_type": "markdown",
   "metadata": {},
   "source": [
    "The first thing that we will implement is a way to look up a laptop from a given identifier. In this way, when a customer comes to our store with a purchase slip, we can quickly identify the laptop to which it corresponds."
   ]
  },
  {
   "cell_type": "code",
   "execution_count": 11,
   "metadata": {},
   "outputs": [],
   "source": [
    "class Inventory():\n",
    "    def __init__(self, csv_filename):\n",
    "        with open(csv_filename, encoding='utf-8') as file:\n",
    "            data = list(csv.reader(file))\n",
    "            self.header = data[0]\n",
    "            self.rows = data[1:]\n",
    "            for row in self.rows:\n",
    "                row_len = len(row)\n",
    "                row[row_len - 1] = int(row[row_len - 1])\n",
    "        \n",
    "    def get_laptop_from_id(self, laptop_id): \n",
    "        for row in self.rows:\n",
    "            if laptop_id in row:\n",
    "                return row\n",
    "        return None"
   ]
  },
  {
   "cell_type": "markdown",
   "metadata": {},
   "source": [
    "Testing modified class by creating an instance of `Inventory` using `laptops.csv` as argument."
   ]
  },
  {
   "cell_type": "code",
   "execution_count": 13,
   "metadata": {
    "scrolled": true
   },
   "outputs": [
    {
     "name": "stdout",
     "output_type": "stream",
     "text": [
      "['3362737', 'HP', '250 G6', 'Notebook', '15.6', 'Full HD 1920x1080', 'Intel Core i5 7200U 2.5GHz', '8GB', '256GB SSD', 'Intel HD Graphics 620', 'No OS', '1.86kg', 575]\n",
      "None\n"
     ]
    }
   ],
   "source": [
    "inventory = Inventory('laptops.csv')\n",
    "item1 = inventory.get_laptop_from_id('3362737')\n",
    "print(item1)\n",
    "item2 = inventory.get_laptop_from_id('3362736')\n",
    "print(item2)"
   ]
  },
  {
   "cell_type": "markdown",
   "metadata": {},
   "source": [
    "## Improving Id Lookups\n",
    "\n",
    "By preprocessing the data, we can make this code more efficiently. Using a set, we can check in constant time whether a given identifier exists. However, we don't just want to know if it exists, we also want to retrieve the remaining row information. Therefore, we will use a dictionary instead of set. Dictionaries have the same fast lookup properties that sets have, but allow us to associate values to the keys.\n",
    "\n",
    "We can preprocess data and create the dictionary in the `__init()__` method."
   ]
  },
  {
   "cell_type": "code",
   "execution_count": 14,
   "metadata": {},
   "outputs": [],
   "source": [
    "class Inventory():\n",
    "    def __init__(self, csv_filename):\n",
    "        with open(csv_filename, encoding='utf-8') as file:\n",
    "            data = list(csv.reader(file))\n",
    "            self.header = data[0]\n",
    "            self.rows = data[1:]\n",
    "            for row in self.rows:\n",
    "                row_len = len(row)\n",
    "                row[row_len - 1] = int(row[row_len - 1])\n",
    "        self.id_to_row = {}\n",
    "        for row in self.rows:\n",
    "            self.id_to_row[row[0]] = row\n",
    "        \n",
    "    def get_laptop_from_id(self, laptop_id): \n",
    "        for row in self.rows:\n",
    "            if laptop_id in row:\n",
    "                return row\n",
    "        return None\n",
    "    \n",
    "    def get_laptop_from_id_fast(self, laptop_id):\n",
    "        if laptop_id in self.id_to_row:\n",
    "            return self.id_to_row[laptop_id]\n",
    "        return None"
   ]
  },
  {
   "cell_type": "markdown",
   "metadata": {},
   "source": [
    "Let's test if the new method `get_laptop_from_id_fast()` works properly."
   ]
  },
  {
   "cell_type": "code",
   "execution_count": 16,
   "metadata": {},
   "outputs": [
    {
     "name": "stdout",
     "output_type": "stream",
     "text": [
      "['3362737', 'HP', '250 G6', 'Notebook', '15.6', 'Full HD 1920x1080', 'Intel Core i5 7200U 2.5GHz', '8GB', '256GB SSD', 'Intel HD Graphics 620', 'No OS', '1.86kg', 575]\n",
      "None\n"
     ]
    }
   ],
   "source": [
    "inventory = Inventory('laptops.csv')\n",
    "item1 = inventory.get_laptop_from_id_fast('3362737')\n",
    "print(item1)\n",
    "item2 = inventory.get_laptop_from_id_fast('3362736')\n",
    "print(item2)"
   ]
  },
  {
   "cell_type": "markdown",
   "metadata": {},
   "source": [
    "## Comparing Performance\n",
    "\n",
    "The `get_laptop_from_id()` method has time complexity _O(R)_ where R is the number of rows. In contrast, the new implementation as time complexity _O(1)_. It does so by using more memory to store the `self.id_to_row` dictionary and using a bit more time creating an instance (because it needs to create the dictionary)."
   ]
  },
  {
   "cell_type": "code",
   "execution_count": 17,
   "metadata": {},
   "outputs": [
    {
     "name": "stdout",
     "output_type": "stream",
     "text": [
      "Total time without dictionary:  0.00033736228942871094\n",
      "Total time with dictionary:  7.152557373046875e-07\n"
     ]
    }
   ],
   "source": [
    "import time\n",
    "import random\n",
    "ids = [ str(random.randint(1000000, 9999999)) for _ in range(10000) ]\n",
    "inventory = Inventory('laptops.csv')\n",
    "\n",
    "total_time_no_dict = 0 # this will aggregate the times of calling get_laptop_from_id().\n",
    "total_time_dict = 0 # this will aggregate the times of calling get_laptop_from_id_fast().\n",
    "\n",
    "for id_str in ids:\n",
    "    start = time.time()\n",
    "    inventory.get_laptop_from_id(id_str)\n",
    "    end = time.time()\n",
    "    total_time_no_dict = end - start\n",
    "    \n",
    "    start = time.time()\n",
    "    inventory.get_laptop_from_id_fast(id_str)\n",
    "    end = time.time()\n",
    "    total_time_dict = end - start\n",
    "\n",
    "print(\"Total time without dictionary: \", total_time_no_dict)\n",
    "print(\"Total time with dictionary: \", total_time_dict)\n"
   ]
  },
  {
   "cell_type": "markdown",
   "metadata": {},
   "source": [
    "## Two Laptop Promotion\n",
    "\n",
    "Sometimes, our store offers a promotion where we give a gift card. A customer can use the gift to buy up to two laptops. To avoid having to keep track of what was already spent, the gift card has a single time usage. This means that, even if there is leftover money, it cannot be used anymore.\n",
    "\n",
    "Let's imagine there are three laptops prices \\\\$1,339, \\\\$898 and \\\\$575. Say we offered a gift card of \\\\$2,500. Since a customer can buy, at most, two laptops with a gift card, the maximum they can spend is \\\\$2,237 (\\\\$1,339 plus \\\\$898). Therefore, they might feel cheated because, no matter how they spend their gift card, they cannot spend the full \\\\$2,500.\n",
    "\n",
    "To avoid makes customer feel cheated, we want to make sure that there is at least one way to spend it in full. In other words, before issuing a gift card for _D_ dollars, we want to make sure that either there is a laptop that costs exactly _D_ dollars or two laptops whose costs add up to precisely _D_ dollars.\n"
   ]
  },
  {
   "cell_type": "code",
   "execution_count": 20,
   "metadata": {},
   "outputs": [],
   "source": [
    "class Inventory():\n",
    "    def __init__(self, csv_filename):\n",
    "        with open(csv_filename, encoding='utf-8') as file:\n",
    "            data = list(csv.reader(file))\n",
    "            self.header = data[0]\n",
    "            self.rows = data[1:]\n",
    "            for row in self.rows:\n",
    "                row_len = len(row)\n",
    "                row[row_len - 1] = int(row[row_len - 1])\n",
    "        self.id_to_row = {}\n",
    "        for row in self.rows:\n",
    "            self.id_to_row[row[0]] = row\n",
    "        \n",
    "    def get_laptop_from_id(self, laptop_id): \n",
    "        for row in self.rows:\n",
    "            if laptop_id in row:\n",
    "                return row\n",
    "        return None\n",
    "    \n",
    "    def get_laptop_from_id_fast(self, laptop_id):\n",
    "        if laptop_id in self.id_to_row:\n",
    "            return self.id_to_row[laptop_id]\n",
    "        return None\n",
    "    \n",
    "    def check_promotion_dollars(self, dollars):\n",
    "        for i in range(len(self.rows)):\n",
    "            if self.rows[i][12] == dollars:\n",
    "                return True\n",
    "            for j in range(i, len(self.rows)):\n",
    "                if self.rows[i][12] + self.rows[j][12] == dollars:\n",
    "                    return True\n",
    "        return False"
   ]
  },
  {
   "cell_type": "markdown",
   "metadata": {},
   "source": [
    "Let's test the `check_promotion_dollars()` function.\n",
    "\n",
    "Call the function by giving `1000` as argument should find a solution.\n",
    "Call the function by giving `442` as argument should not find a solution."
   ]
  },
  {
   "cell_type": "code",
   "execution_count": 21,
   "metadata": {},
   "outputs": [
    {
     "name": "stdout",
     "output_type": "stream",
     "text": [
      "True\n",
      "False\n"
     ]
    }
   ],
   "source": [
    "inventory = Inventory('laptops.csv')\n",
    "promo1 = inventory.check_promotion_dollars(1000)\n",
    "print(promo1)\n",
    "promo2 = inventory.check_promotion_dollars(442)\n",
    "print(promo2)"
   ]
  },
  {
   "cell_type": "markdown",
   "metadata": {},
   "source": [
    "## Optimizing Laptop Promotion\n",
    "\n",
    "Since we only care about whether or not there is a solution, we can store all laptops prices in a set when we initialize the inventory. Then we check in constant time whether there is a laptop with a given price."
   ]
  },
  {
   "cell_type": "code",
   "execution_count": 25,
   "metadata": {},
   "outputs": [],
   "source": [
    "class Inventory():\n",
    "    def __init__(self, csv_filename):\n",
    "        with open(csv_filename, encoding='utf-8') as file:\n",
    "            data = list(csv.reader(file))\n",
    "            self.header = data[0]\n",
    "            self.rows = data[1:]\n",
    "            for row in self.rows:\n",
    "                row_len = len(row)\n",
    "                row[row_len - 1] = int(row[row_len - 1])\n",
    "        \n",
    "        self.id_to_row = {}\n",
    "        for row in self.rows:\n",
    "            self.id_to_row[row[0]] = row\n",
    "            \n",
    "        self.prices = set()\n",
    "        for row in self.rows:\n",
    "            self.prices.add(row[12])\n",
    "        \n",
    "    def get_laptop_from_id(self, laptop_id): \n",
    "        for row in self.rows:\n",
    "            if laptop_id in row:\n",
    "                return row\n",
    "        return None\n",
    "    \n",
    "    def get_laptop_from_id_fast(self, laptop_id):\n",
    "        if laptop_id in self.id_to_row:\n",
    "            return self.id_to_row[laptop_id]\n",
    "        return None\n",
    "    \n",
    "    def check_promotion_dollars(self, dollars):\n",
    "        for i in range(len(self.rows)):\n",
    "            if self.rows[i][12] == dollars:\n",
    "                return True\n",
    "            for j in range(i, len(self.rows)):\n",
    "                if self.rows[i][12] + self.rows[j][12] == dollars:\n",
    "                    return True\n",
    "        return False\n",
    "    \n",
    "    def check_promotion_dollars_fast(self, dollars):\n",
    "        if dollars in self.prices:\n",
    "            return True\n",
    "        \n",
    "        for price1 in self.prices:\n",
    "            price2 = dollars - price1\n",
    "            if price2 in self.prices:\n",
    "                return True\n",
    "            \n",
    "        return False"
   ]
  },
  {
   "cell_type": "markdown",
   "metadata": {},
   "source": [
    "Let's test our `check_promotion_dollars_fast()` function by giving `1000` and `442` as argument.\n",
    "Giving `1000` should find a solution.\n",
    "Giving `442` should not find a solution."
   ]
  },
  {
   "cell_type": "code",
   "execution_count": 26,
   "metadata": {},
   "outputs": [
    {
     "name": "stdout",
     "output_type": "stream",
     "text": [
      "True\n",
      "False\n"
     ]
    }
   ],
   "source": [
    "inventory = Inventory('laptops.csv')\n",
    "promo1 = inventory.check_promotion_dollars_fast(1000)\n",
    "print(promo1)\n",
    "promo2 = inventory.check_promotion_dollars_fast(442)\n",
    "print(promo2)"
   ]
  },
  {
   "cell_type": "markdown",
   "metadata": {},
   "source": [
    "## Comparing Promotion Functions\n",
    "\n",
    "Let's compare the performance of the last two functions that we wrote."
   ]
  },
  {
   "cell_type": "code",
   "execution_count": 28,
   "metadata": {},
   "outputs": [
    {
     "name": "stdout",
     "output_type": "stream",
     "text": [
      "Total time with no set:  0.008693218231201172\n",
      "Total time with set:  2.86102294921875e-06\n"
     ]
    }
   ],
   "source": [
    "prices = [ random.randint(100, 5000) for _ in range(100) ]\n",
    "inventory = Inventory('laptops.csv')\n",
    "total_time_no_set = 0\n",
    "total_time_set = 0\n",
    "for price in prices:\n",
    "    start = time.time()\n",
    "    inventory.check_promotion_dollars(price)\n",
    "    end = time.time()\n",
    "    total_time_no_set = end - start\n",
    "    \n",
    "    start = time.time()\n",
    "    inventory.check_promotion_dollars_fast(price)\n",
    "    end = time.time()\n",
    "    total_time_set = end - start\n",
    "    \n",
    "print(\"Total time with no set: \", total_time_no_set)\n",
    "print(\"Total time with set: \", total_time_set)"
   ]
  },
  {
   "cell_type": "markdown",
   "metadata": {},
   "source": [
    "## Finding Laptops Within a Budget\n",
    "\n",
    "We are going to leverage binary search to write a method that efficiently answers the query: Given a budget of _D_ dollars, find all laptops whose price it at most _D_.\n",
    "\n",
    "We are going to sort all laptops by price so that we can use binary search to identify the first laptop in the sorted list with a price larger than _D_. We need to make sure that our binary search finds the _first one_ on the list. Then, the result of the query will consist of all laptops whose index in the sorted list is smaller than the index of the first laptop whose price is higher than the budget _D_."
   ]
  },
  {
   "cell_type": "code",
   "execution_count": 68,
   "metadata": {},
   "outputs": [],
   "source": [
    "class Inventory():\n",
    "    def __init__(self, csv_filename):\n",
    "        with open(csv_filename, encoding='utf-8') as file:\n",
    "            data = list(csv.reader(file))\n",
    "            self.header = data[0]\n",
    "            self.rows = data[1:]\n",
    "            for row in self.rows:\n",
    "                row_len = len(row)\n",
    "                row[row_len - 1] = int(row[row_len - 1])\n",
    "        \n",
    "        self.id_to_row = {}\n",
    "        for row in self.rows:\n",
    "            self.id_to_row[row[0]] = row\n",
    "            \n",
    "        self.prices = set()\n",
    "        for row in self.rows:\n",
    "            self.prices.add(row[12])\n",
    "            \n",
    "        self.rows_by_price = sorted(self.rows, key=self.row_price)\n",
    "        \n",
    "    def get_laptop_from_id(self, laptop_id): \n",
    "        for row in self.rows:\n",
    "            if laptop_id in row:\n",
    "                return row\n",
    "        return None\n",
    "    \n",
    "    def get_laptop_from_id_fast(self, laptop_id):\n",
    "        if laptop_id in self.id_to_row:\n",
    "            return self.id_to_row[laptop_id]\n",
    "        return None\n",
    "    \n",
    "    def check_promotion_dollars(self, dollars):\n",
    "        for i in range(len(self.rows)):\n",
    "            if self.rows[i][12] == dollars:\n",
    "                return True\n",
    "            for j in range(i, len(self.rows)):\n",
    "                if self.rows[i][12] + self.rows[j][12] == dollars:\n",
    "                    return True\n",
    "        return False\n",
    "    \n",
    "    def check_promotion_dollars_fast(self, dollars):\n",
    "        if dollars in self.prices:\n",
    "            return True\n",
    "        \n",
    "        for price1 in self.prices:\n",
    "            price2 = dollars - price1\n",
    "            if price2 in self.prices:\n",
    "                return True\n",
    "            \n",
    "        return False\n",
    "    \n",
    "    def row_price(self, row):\n",
    "        return row[-1]\n",
    "    \n",
    "    def find_first_laptop_more_expensive(self, budget):\n",
    "        range_start = 0\n",
    "        range_end = len(self.rows_by_price) - 1\n",
    "        while range_start < range_end:\n",
    "            range_middle = (range_end + range_start) // 2\n",
    "            price = int(self.rows_by_price[range_middle][-1])\n",
    "            if price >= budget:\n",
    "                range_end =  range_middle\n",
    "            elif price < budget:\n",
    "                range_start = range_middle + 1\n",
    "        \n",
    "        if int(self.rows_by_price[range_start][-1]) == budget:\n",
    "            return range_start + 1\n",
    "        elif int(self.rows_by_price[range_start][-1]) > budget:\n",
    "            return range_start\n",
    "        else: \n",
    "            return -1\n",
    "    "
   ]
  },
  {
   "cell_type": "markdown",
   "metadata": {},
   "source": [
    "Let's test our `find_first_laptop_more_expensive()` function.\n",
    "Call the function by giving `1000` as argument should find the index `683`.\n",
    "Call the function by giving `10000` as argument should not find a solution and return `-1`."
   ]
  },
  {
   "cell_type": "code",
   "execution_count": 69,
   "metadata": {
    "scrolled": false
   },
   "outputs": [
    {
     "name": "stdout",
     "output_type": "stream",
     "text": [
      "683\n",
      "-1\n"
     ]
    }
   ],
   "source": [
    "inventory = Inventory('laptops.csv')\n",
    "find1 = inventory.find_first_laptop_more_expensive(1000)\n",
    "print(find1)\n",
    "find2 = inventory.find_first_laptop_more_expensive(10000)\n",
    "print(find2)"
   ]
  }
 ],
 "metadata": {
  "kernelspec": {
   "display_name": "Python 3",
   "language": "python",
   "name": "python3"
  },
  "language_info": {
   "codemirror_mode": {
    "name": "ipython",
    "version": 3
   },
   "file_extension": ".py",
   "mimetype": "text/x-python",
   "name": "python",
   "nbconvert_exporter": "python",
   "pygments_lexer": "ipython3",
   "version": "3.8.2"
  }
 },
 "nbformat": 4,
 "nbformat_minor": 2
}
